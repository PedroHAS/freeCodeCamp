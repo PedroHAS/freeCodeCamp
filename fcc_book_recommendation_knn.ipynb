{
  "cells": [
    {
      "cell_type": "code",
      "execution_count": null,
      "metadata": {
        "id": "Y1onB6kUvo4Z"
      },
      "outputs": [],
      "source": [
        "# Import libraries\n",
        "import numpy as np\n",
        "import pandas as pd\n",
        "from scipy.sparse import csr_matrix\n",
        "from sklearn.neighbors import NearestNeighbors\n",
        "\n",
        "# Get data files\n",
        "!wget https://cdn.freecodecamp.org/project-data/books/book-crossings.zip\n",
        "!unzip book-crossings.zip\n",
        "\n",
        "books_filename = 'BX-Books.csv'\n",
        "ratings_filename = 'BX-Book-Ratings.csv'\n",
        "\n",
        "# Import csv data into dataframes\n",
        "df_books = pd.read_csv(\n",
        "    books_filename,\n",
        "    encoding=\"ISO-8859-1\",\n",
        "    sep=\";\",\n",
        "    header=0,\n",
        "    names=['isbn', 'title', 'author'],\n",
        "    usecols=['isbn', 'title', 'author'],\n",
        "    dtype={'isbn': 'str', 'title': 'str', 'author': 'str'}\n",
        ")\n",
        "\n",
        "df_ratings = pd.read_csv(\n",
        "    ratings_filename,\n",
        "    encoding=\"ISO-8859-1\",\n",
        "    sep=\";\",\n",
        "    header=0,\n",
        "    names=['user', 'isbn', 'rating'],\n",
        "    usecols=['user', 'isbn', 'rating'],\n",
        "    dtype={'user': 'int32', 'isbn': 'str', 'rating': 'float32'}\n",
        ")"
      ]
    },
    {
      "cell_type": "code",
      "execution_count": null,
      "metadata": {
        "id": "iAQGqqO_vo4d"
      },
      "outputs": [],
      "source": [
        "# get data files\n",
        "!wget https://cdn.freecodecamp.org/project-data/books/book-crossings.zip\n",
        "\n",
        "!unzip book-crossings.zip\n",
        "\n",
        "books_filename = 'BX-Books.csv'\n",
        "ratings_filename = 'BX-Book-Ratings.csv'"
      ]
    },
    {
      "cell_type": "code",
      "execution_count": null,
      "metadata": {
        "id": "NClILWOiEd6Q"
      },
      "outputs": [],
      "source": [
        "# import csv data into dataframes\n",
        "df_books = pd.read_csv(\n",
        "    books_filename,\n",
        "    encoding = \"ISO-8859-1\",\n",
        "    sep=\";\",\n",
        "    header=0,\n",
        "    names=['isbn', 'title', 'author'],\n",
        "    usecols=['isbn', 'title', 'author'],\n",
        "    dtype={'isbn': 'str', 'title': 'str', 'author': 'str'})\n",
        "\n",
        "df_ratings = pd.read_csv(\n",
        "    ratings_filename,\n",
        "    encoding = \"ISO-8859-1\",\n",
        "    sep=\";\",\n",
        "    header=0,\n",
        "    names=['user', 'isbn', 'rating'],\n",
        "    usecols=['user', 'isbn', 'rating'],\n",
        "    dtype={'user': 'int32', 'isbn': 'str', 'rating': 'float32'})"
      ]
    },
    {
      "cell_type": "code",
      "execution_count": null,
      "metadata": {
        "id": "xAcXjkCFCh0A"
      },
      "outputs": [],
      "source": [
        "# Filter users and books based on the number of ratings\n",
        "user_counts = df_ratings['user'].value_counts()\n",
        "users_to_keep = user_counts[user_counts >= 200].index\n",
        "\n",
        "book_counts = df_ratings['isbn'].value_counts()\n",
        "books_to_keep = book_counts[book_counts >= 100].index\n",
        "\n",
        "filtered_ratings = df_ratings[df_ratings['user'].isin(users_to_keep) & df_ratings['isbn'].isin(books_to_keep)]"
      ]
    },
    {
      "cell_type": "code",
      "execution_count": null,
      "metadata": {
        "id": "f5ZUd-L1SQz7"
      },
      "outputs": [],
      "source": [
        "# Function to return recommended books\n",
        "def get_recommends(book=\"\"):\n",
        "    if book not in df_books['title'].values:\n",
        "        return f\"Book '{book}' not found.\"\n",
        "\n",
        "    # Get the ISBN of the book\n",
        "    isbn = df_books[df_books['title'] == book]['isbn'].values[0]\n",
        "\n",
        "    # Find the index of the book in the ratings matrix\n",
        "    book_index = ratings_matrix.columns.get_loc(isbn)\n",
        "\n",
        "    # Get distances and indices of the nearest neighbors\n",
        "    distances, indices = knn.kneighbors(ratings_sparse[:, book_index], n_neighbors=6)\n",
        "\n",
        "    # Prepare the list of recommended books\n",
        "    recommended_books = []\n",
        "    for i in range(1, len(distances.flatten())):  # Skip the first one as it's the book itself\n",
        "        book_isbn = ratings_matrix.columns[indices.flatten()[i]]\n",
        "        book_title = df_books[df_books['isbn'] == book_isbn]['title'].values[0]\n",
        "        recommended_books.append([book_title, distances.flatten()[i]])\n",
        "\n",
        "    return [book, recommended_books]\n"
      ]
    },
    {
      "cell_type": "code",
      "execution_count": null,
      "metadata": {
        "id": "jd2SLCh8oxMh"
      },
      "outputs": [],
      "source": [
        "# Test the recommendation system\n",
        "books = get_recommends(\"Where the Heart Is (Oprah's Book Club (Paperback))\")\n",
        "print(books)\n",
        "\n",
        "def test_book_recommendation():\n",
        "    test_pass = True\n",
        "    recommends = get_recommends(\"Where the Heart Is (Oprah's Book Club (Paperback))\")\n",
        "    if recommends[0] != \"Where the Heart Is (Oprah's Book Club (Paperback))\":\n",
        "        test_pass = False\n",
        "    recommended_books = [\"I'll Be Seeing You\", 'The Weight of Water', 'The Surgeon', 'I Know This Much Is True']\n",
        "    recommended_books_dist = [0.8, 0.77, 0.77, 0.77]\n",
        "    for i in range(2):\n",
        "        if recommends[1][i][0] not in recommended_books:\n",
        "            test_pass = False\n",
        "        if abs(recommends[1][i][1] - recommended_books_dist[i]) >= 0.05:\n",
        "            test_pass = False\n",
        "    if test_pass:\n",
        "        print(\"You passed the challenge! 🎉🎉🎉🎉🎉\")\n",
        "    else:\n",
        "        print(\"You haven't passed yet. Keep trying!\")\n",
        "\n",
        "test_book_recommendation()\n"
      ]
    },
    {
      "cell_type": "code",
      "source": [
        "# Create a pivot table for ratings\n",
        "ratings_matrix = filtered_ratings.pivot(index='user', columns='isbn', values='rating').fillna(0)\n",
        "ratings_sparse = csr_matrix(ratings_matrix)"
      ],
      "metadata": {
        "id": "yXLng15M71Q_"
      },
      "execution_count": null,
      "outputs": []
    },
    {
      "cell_type": "code",
      "source": [
        "# Train the Nearest Neighbors model\n",
        "knn = NearestNeighbors(metric='cosine', algorithm='brute', n_neighbors=6)\n",
        "knn.fit(ratings_sparse)\n"
      ],
      "metadata": {
        "id": "lzea6Asa72e_"
      },
      "execution_count": null,
      "outputs": []
    },
    {
      "cell_type": "code",
      "source": [],
      "metadata": {
        "id": "-RAAwxwD77IX"
      },
      "execution_count": null,
      "outputs": []
    }
  ],
  "metadata": {
    "colab": {
      "name": "fcc_book_recommendation_knn.ipynb",
      "provenance": []
    },
    "kernelspec": {
      "display_name": "Python 3",
      "language": "python",
      "name": "python3"
    },
    "language_info": {
      "codemirror_mode": {
        "name": "ipython",
        "version": 3
      },
      "file_extension": ".py",
      "mimetype": "text/x-python",
      "name": "python",
      "nbconvert_exporter": "python",
      "pygments_lexer": "ipython3",
      "version": "3.6.5"
    }
  },
  "nbformat": 4,
  "nbformat_minor": 0
}